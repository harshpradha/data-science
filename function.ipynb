{
 "cells": [
  {
   "cell_type": "code",
   "execution_count": 1,
   "metadata": {},
   "outputs": [
    {
     "name": "stdout",
     "output_type": "stream",
     "text": [
      "harsh\n"
     ]
    }
   ],
   "source": [
    "a=\"harsh\"\n",
    "print(a)\n"
   ]
  },
  {
   "cell_type": "code",
   "execution_count": 6,
   "metadata": {},
   "outputs": [
    {
     "name": "stdout",
     "output_type": "stream",
     "text": [
      "helo i am from a function\n"
     ]
    },
    {
     "ename": "TypeError",
     "evalue": "harsh_p() missing 1 required positional argument: 'lala'",
     "output_type": "error",
     "traceback": [
      "\u001b[1;31m---------------------------------------------------------------------------\u001b[0m",
      "\u001b[1;31mTypeError\u001b[0m                                 Traceback (most recent call last)",
      "Cell \u001b[1;32mIn[6], line 10\u001b[0m\n\u001b[0;32m      8\u001b[0m \u001b[38;5;28;01mdef\u001b[39;00m \u001b[38;5;21mharsh_p\u001b[39m(pradhan,lala):\n\u001b[0;32m      9\u001b[0m     \u001b[38;5;28mprint\u001b[39m(pradhan\u001b[38;5;241m+\u001b[39m\u001b[38;5;124m\"\u001b[39m\u001b[38;5;124m\"\u001b[39m\u001b[38;5;241m+\u001b[39mlala)\n\u001b[1;32m---> 10\u001b[0m \u001b[43mharsh_p\u001b[49m\u001b[43m(\u001b[49m\u001b[38;5;124;43m\"\u001b[39;49m\u001b[38;5;124;43mdon\u001b[39;49m\u001b[38;5;124;43m\"\u001b[39;49m\u001b[43m)\u001b[49m\n",
      "\u001b[1;31mTypeError\u001b[0m: harsh_p() missing 1 required positional argument: 'lala'"
     ]
    }
   ],
   "source": [
    "def my_function():\n",
    "    print(\"helo i am from a function\")\n",
    "my_function()\n",
    "# def\n",
    "#  se function ko define karte h call the function function the name \n",
    "#y_function(\"harsh\")\n",
    "#my_function(\"laa\")\n",
    "def harsh_p(pradhan,lala):\n",
    "    print(pradhan+\"\"+lala)\n",
    "harsh_p(\"don\")"
   ]
  },
  {
   "cell_type": "code",
   "execution_count": 9,
   "metadata": {},
   "outputs": [
    {
     "name": "stdout",
     "output_type": "stream",
     "text": [
      "i am fromritik\n"
     ]
    }
   ],
   "source": [
    "def h_h(kanu,varun,ritik):\n",
    "    print(\"i am from\"+\"ritik\")\n",
    "h_h(kanu='email',varun=\"ram\",ritik=\"govind\")"
   ]
  },
  {
   "cell_type": "code",
   "execution_count": 8,
   "metadata": {},
   "outputs": [
    {
     "name": "stdout",
     "output_type": "stream",
     "text": [
      "i am fromrampura\n",
      "i am frommalawala\n",
      "i am fromganga\n"
     ]
    }
   ],
   "source": [
    "def h_h(city=\"jaipur\"):\n",
    "    # print(\"i am from\"+city)\n",
    "h_h(\"rampura\")\n",
    "h_h(\"malawala\")\n",
    "h_h(\"ganga\")\n"
   ]
  },
  {
   "cell_type": "code",
   "execution_count": 14,
   "metadata": {},
   "outputs": [
    {
     "name": "stdout",
     "output_type": "stream",
     "text": [
      "harsh\n",
      "ram\n",
      "shyam\n"
     ]
    }
   ],
   "source": [
    "def my_h(kuch):\n",
    "    for x in kuch:\n",
    "        print(x)\n",
    "kuch=(\"harsh\",\"ram\",\"shyam\")\n",
    "my_h(kuch)     "
   ]
  },
  {
   "cell_type": "code",
   "execution_count": 3,
   "metadata": {},
   "outputs": [
    {
     "name": "stdout",
     "output_type": "stream",
     "text": [
      "10\n",
      "14\n"
     ]
    }
   ],
   "source": [
    "# a= lambda a,b: a+b\n",
    "# print(a(4,6))\n",
    "# print(a(5,9))\n",
    " "
   ]
  },
  {
   "cell_type": "code",
   "execution_count": 4,
   "metadata": {},
   "outputs": [
    {
     "name": "stdout",
     "output_type": "stream",
     "text": [
      "0 harsh\n",
      "1 love\n",
      "2 lavesh\n"
     ]
    }
   ],
   "source": [
    "# enmurate funtion= variable ko count kar ne liye\n",
    "name=('harsh', 'love','lavesh')\n",
    "for a ,b in enumerate(name):\n",
    "    print(a,b)"
   ]
  },
  {
   "cell_type": "code",
   "execution_count": 6,
   "metadata": {},
   "outputs": [
    {
     "name": "stdout",
     "output_type": "stream",
     "text": [
      "0 ram\n",
      "1 harsh\n",
      "2 lovesh\n"
     ]
    }
   ],
   "source": [
    "lst=['ram','harsh','lovesh']\n",
    "for x,y in enumerate(lst):\n",
    "    print(x,y)"
   ]
  },
  {
   "cell_type": "code",
   "execution_count": 10,
   "metadata": {},
   "outputs": [
    {
     "name": "stdout",
     "output_type": "stream",
     "text": [
      "0 ('ram', 'shayam')\n",
      "1 ('harsh', 'ritik')\n"
     ]
    }
   ],
   "source": [
    "dct={'ram':'shayam','harsh':\"ritik\"}\n",
    "for a,b in enumerate(dct.items()):\n",
    "    print(a,b)"
   ]
  },
  {
   "cell_type": "code",
   "execution_count": null,
   "metadata": {},
   "outputs": [],
   "source": [
    "#module\n",
    "# os,math,regrex \n",
    "#lamada ka use function ko bina naam ke call karna ke liye\n",
    "\n"
   ]
  },
  {
   "cell_type": "markdown",
   "metadata": {},
   "source": []
  }
 ],
 "metadata": {
  "kernelspec": {
   "display_name": "Python 3",
   "language": "python",
   "name": "python3"
  },
  "language_info": {
   "codemirror_mode": {
    "name": "ipython",
    "version": 3
   },
   "file_extension": ".py",
   "mimetype": "text/x-python",
   "name": "python",
   "nbconvert_exporter": "python",
   "pygments_lexer": "ipython3",
   "version": "3.12.4"
  }
 },
 "nbformat": 4,
 "nbformat_minor": 2
}
