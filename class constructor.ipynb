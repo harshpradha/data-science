{
 "cells": [
  {
   "cell_type": "markdown",
   "metadata": {},
   "source": [
    "# constructor"
   ]
  },
  {
   "cell_type": "markdown",
   "metadata": {},
   "source": [
    "* the init() function\n",
    "* the examles above are classes and objects in their simplest  from , and are not really useful in real life application"
   ]
  },
  {
   "cell_type": "markdown",
   "metadata": {},
   "source": [
    "To understand the meaning of classes we have to understand the built-in  init() function"
   ]
  },
  {
   "cell_type": "code",
   "execution_count": 1,
   "metadata": {},
   "outputs": [
    {
     "name": "stdout",
     "output_type": "stream",
     "text": [
      "jonh\n",
      "jonh\n"
     ]
    }
   ],
   "source": [
    "class person: #class ke bina construter nhi bna skte '\n",
    "   def __init__(self,name,age):\n",
    "    #intance variable\n",
    "    self.name=name \n",
    "    self.age=age\n",
    "\n",
    "p1 = person(\"jonh\",36)\n",
    "print(p1.name)\n",
    "print(p1.name)\n"
   ]
  },
  {
   "cell_type": "code",
   "execution_count": 5,
   "metadata": {},
   "outputs": [
    {
     "name": "stdout",
     "output_type": "stream",
     "text": [
      "father nameharsh\n",
      "None\n"
     ]
    }
   ],
   "source": [
    "class father:\n",
    "    def __init__(self,name,age):\n",
    "        self.name=name\n",
    "        self.age=age\n",
    "    def child(abc):\n",
    "        print('father name'+abc.name)\n",
    "p1=father('harsh',636)\n",
    "print(p1.child())\n"
   ]
  },
  {
   "cell_type": "code",
   "execution_count": null,
   "metadata": {},
   "outputs": [],
   "source": []
  }
 ],
 "metadata": {
  "kernelspec": {
   "display_name": "Python 3",
   "language": "python",
   "name": "python3"
  },
  "language_info": {
   "codemirror_mode": {
    "name": "ipython",
    "version": 3
   },
   "file_extension": ".py",
   "mimetype": "text/x-python",
   "name": "python",
   "nbconvert_exporter": "python",
   "pygments_lexer": "ipython3",
   "version": "3.12.4"
  }
 },
 "nbformat": 4,
 "nbformat_minor": 2
}
