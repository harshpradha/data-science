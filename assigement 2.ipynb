{
 "cells": [
  {
   "cell_type": "markdown",
   "metadata": {},
   "source": [
    "# Q.1 What is github? write a simple definition for github.\n",
    "* Github is create by \"Linus Torvalds\".and Github is released in 7 april 2005. Github is a version- control system.and Github is a online software developement platfrom .it's used for storing ,tracking,and collaborating on software projects.  "
   ]
  },
  {
   "cell_type": "markdown",
   "metadata": {},
   "source": [
    "# Q.2 How can you clone a Github repository to your local machine? provide the command and explain each part of it.\n",
    "we use the command  git clone  <repository_url> to clone the a github repository to local machine.\n",
    "        \n",
    "        . git clone the main cammand used to colne repository in git\n",
    "        . <repositaory _url> this is the url of the repositort of that we want  \n"
   ]
  },
  {
   "cell_type": "markdown",
   "metadata": {},
   "source": [
    "# 3. What is tuple unpaking? Provide am example with the tuple coordinates=(10,20,30,)to complete this assigement question ,you can take reference from the internet ,and describe the tuple unpacking by a coding example.\n",
    "\n",
    ". The tuple uncapking is the process of breaking down a tuple into individual element and asigning those element to separate variables in one go."
   ]
  },
  {
   "cell_type": "code",
   "execution_count": 6,
   "metadata": {},
   "outputs": [
    {
     "name": "stdout",
     "output_type": "stream",
     "text": [
      "10\n",
      "20\n",
      "30\n"
     ]
    }
   ],
   "source": [
    "a= (10,20,30)\n",
    "x,y,z=a\n",
    "print(x)\n",
    "print(y)\n",
    "print(z)"
   ]
  },
  {
   "cell_type": "code",
   "execution_count": 5,
   "metadata": {},
   "outputs": [
    {
     "name": "stdout",
     "output_type": "stream",
     "text": [
      "fruits\n"
     ]
    }
   ],
   "source": [
    "# 4. Given the list fruits=['apple ','banana','chery','date'] how would you access the 'na'from the 'banana'? after that change it in upper case like \"NA\"\n",
    "\n",
    "fruits=['banana','chery','date','apple']\n",
    "a =fruits[1]\n",
    "b=a[2:4].upper()\n",
    "\n",
    "fruits[1]=a[:2]+b+a[4:]\n",
    "print('fruits')"
   ]
  }
 ],
 "metadata": {
  "kernelspec": {
   "display_name": "Python 3",
   "language": "python",
   "name": "python3"
  },
  "language_info": {
   "codemirror_mode": {
    "name": "ipython",
    "version": 3
   },
   "file_extension": ".py",
   "mimetype": "text/x-python",
   "name": "python",
   "nbconvert_exporter": "python",
   "pygments_lexer": "ipython3",
   "version": "3.12.4"
  }
 },
 "nbformat": 4,
 "nbformat_minor": 2
}
